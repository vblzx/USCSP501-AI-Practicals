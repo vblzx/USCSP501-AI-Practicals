{
 "cells": [
  {
   "cell_type": "code",
   "execution_count": 1,
   "id": "32a64625-dfed-4752-896c-bf57bdd9ce42",
   "metadata": {},
   "outputs": [],
   "source": [
    "dict_gn = dict(\n",
    "    Arad = dict(Zerind = 75 ,Timisoara = 118 , Sibiu = 140),\n",
    "    Bucharest = dict(Urziceni = 85, Giurgui = 90,  Pitesti = 101, Fagaras = 211),\n",
    "    Craiova = dict(Drobeta = 120, Pitesti = 138, Rimnicu = 146),\n",
    "    Drobeta = dict(Craiova = 120, Mehadia = 75),\n",
    "    Eforie = dict(Hirsova = 86),\n",
    "    Fagaras = dict(Sibiu = 99, Bucharest = 211),\n",
    "    Giurgiu = dict(Bucharest = 90),\n",
    "    Hirsova = dict(Eforie = 86, Urziceni = 98),\n",
    "    Iasi = dict(Neamt = 87, Vaslui = 92),\n",
    "    Lugoj = dict(Mehadia = 70, Timisoara = 111),\n",
    "    Mehadia = dict(Lugoj = 70, Drobeta = 75),\n",
    "    Neamt = dict(Iasi = 87),\n",
    "    Oradea = dict(Zerind = 71, Sibiu = 151),\n",
    "    Pitesti = dict(Bucharest = 101, Craiova = 138 ),\n",
    "    Rimnicu = dict(Sibiu = 80, Pitesti = 97, Craiova = 146),\n",
    "    Sibiu = dict(Rimnicu = 80, Arad =  140, Fagaras = 99, Oradea = 151),\n",
    "    Timisoara = dict(Arad = 118, Lugoj = 111),\n",
    "    Urziceni = dict(Bucharest = 85, Hirsova = 98, Vaslui = 142),\n",
    "    Vaslui = dict(Iasi = 92, Urziceni = 142),\n",
    "    Zerind = dict(Oradea = 71, Arad = 75)\n",
    ")"
   ]
  },
  {
   "cell_type": "code",
   "execution_count": 2,
   "id": "6d39d4af-214c-4afa-a1f9-b8b220d2c8a9",
   "metadata": {},
   "outputs": [],
   "source": [
    "dict_hn = { 'Arad': 366, 'Bucharest': 0, 'Craiova':160, 'Drobeta': 242, 'Eforie': 161, 'Fagaras': 176, 'Giurgiu': 77, 'Hirsova': 151, 'Iasi': 226, 'Lugoj': 244, 'Mehadia': 241, 'Neamt': 234, 'Oradea': 380, 'Pitesti': 100, 'Rimnicu': 193, 'Sibiu': 253, 'Timisoara': 329, 'Urziceni': 80, 'Vaslui': 199, 'Zerind': 374}"
   ]
  },
  {
   "cell_type": "markdown",
   "id": "fe963fbd",
   "metadata": {},
   "source": [
    "# A* Search"
   ]
  },
  {
   "cell_type": "code",
   "execution_count": 3,
   "id": "b0ca68bc-56be-4d00-b08d-43fd3d635493",
   "metadata": {},
   "outputs": [
    {
     "name": "stdout",
     "output_type": "stream",
     "text": [
      "The A* Path with the total is: \n",
      "Arad|Sibiu|Rimnicu|Pitesti|Bucharest::418\n"
     ]
    }
   ],
   "source": [
    "import queue as Q\n",
    "start = 'Arad'\n",
    "goal = 'Bucharest'\n",
    "result = ''\n",
    "expanded = set()\n",
    "\n",
    "def get_fn(citystr):\n",
    "    cities = citystr.split('|')\n",
    "    hn = gn = 0\n",
    "    for i in range(len(cities)-1):\n",
    "        gn = gn + dict_gn [cities[i]][cities[i+1]]\n",
    "    hn = dict_hn [cities[len(cities)-1]]\n",
    "    return (hn+gn)\n",
    "\n",
    "def expand(cityq):\n",
    "        global result, expanded\n",
    "        total, citystr, thiscity = cityq.get()\n",
    "        expanded.add(thiscity)\n",
    "        if thiscity == goal:\n",
    "            result = citystr+'::'+str(total)\n",
    "            return \n",
    "        for neighbor in dict_gn[thiscity]:\n",
    "            if neighbor not in expanded:\n",
    "                city_list = citystr+'|'+neighbor\n",
    "                cityq.put((get_fn(city_list),city_list,neighbor))\n",
    "        expand(cityq)\n",
    "\n",
    "def main():\n",
    "    cityq = Q.PriorityQueue()\n",
    "    thiscity = start\n",
    "    cityq.put((get_fn(start),start, thiscity))\n",
    "    expand(cityq)\n",
    "    print(\"The A* Path with the total is: \")\n",
    "    print(result)\n",
    "\n",
    "main()"
   ]
  },
  {
   "cell_type": "markdown",
   "id": "23693cb9",
   "metadata": {},
   "source": [
    "# RBFS (Recursive Best First Search)"
   ]
  },
  {
   "cell_type": "code",
   "execution_count": 15,
   "id": "bd5a697c",
   "metadata": {},
   "outputs": [
    {
     "name": "stdout",
     "output_type": "stream",
     "text": [
      "Nexttotal:  999\n",
      "Expanded City _________________ Arad\n",
      "Second Best f(n) ______________ 999\n",
      "(393, 'Arad,Sibiu', 'Sibiu')\n",
      "(999, 'NA', 'NA')\n",
      "(447, 'Arad,Timisoara', 'Timisoara')\n",
      "Nexttotal:  447\n",
      "Expanded City _________________ Sibiu\n",
      "Second Best f(n) ______________ 447\n",
      "(413, 'Arad,Sibiu,Rimnicu', 'Rimnicu')\n",
      "(415, 'Arad,Sibiu,Fagaras', 'Fagaras')\n",
      "(447, 'Arad,Timisoara', 'Timisoara')\n",
      "(999, 'NA', 'NA')\n",
      "Nexttotal:  415\n",
      "Expanded City _________________ Rimnicu\n",
      "Second Best f(n) ______________ 415\n",
      "(415, 'Arad,Sibiu,Fagaras', 'Fagaras')\n",
      "(417, 'Arad,Sibiu,Rimnicu', 'Rimnicu')\n",
      "(447, 'Arad,Timisoara', 'Timisoara')\n",
      "(999, 'NA', 'NA')\n",
      "Nexttotal:  417\n",
      "Expanded City _________________ Fagaras\n",
      "Second Best f(n) ______________ 417\n",
      "(417, 'Arad,Sibiu,Rimnicu', 'Rimnicu')\n",
      "(450, 'Arad,Sibiu,Fagaras', 'Fagaras')\n",
      "(447, 'Arad,Timisoara', 'Timisoara')\n",
      "(999, 'NA', 'NA')\n",
      "Nexttotal:  447\n",
      "Expanded City _________________ Rimnicu\n",
      "Second Best f(n) ______________ 447\n",
      "(417, 'Arad,Sibiu,Rimnicu,Pitesti', 'Pitesti')\n",
      "(447, 'Arad,Timisoara', 'Timisoara')\n",
      "(999, 'NA', 'NA')\n",
      "(450, 'Arad,Sibiu,Fagaras', 'Fagaras')\n",
      "(526, 'Arad,Sibiu,Rimnicu', 'Rimnicu')\n",
      "Nexttotal:  447\n",
      "Expanded City _________________ Pitesti\n",
      "Second Best f(n) ______________ 447\n",
      "(418, 'Arad,Sibiu,Rimnicu,Pitesti,Bucharest', 'Bucharest')\n",
      "(447, 'Arad,Timisoara', 'Timisoara')\n",
      "(615, 'Arad,Sibiu,Rimnicu,Pitesti', 'Pitesti')\n",
      "(526, 'Arad,Sibiu,Rimnicu', 'Rimnicu')\n",
      "(450, 'Arad,Sibiu,Fagaras', 'Fagaras')\n",
      "(999, 'NA', 'NA')\n",
      "Nexttotal:  447\n",
      "Arad,Sibiu,Rimnicu,Pitesti,Bucharest::418\n"
     ]
    }
   ],
   "source": [
    "import queue as Q\n",
    "start = 'Arad'\n",
    "goal = 'Bucharest'\n",
    "result = ''\n",
    "\n",
    "def get_fn(citystr):\n",
    "    cities = citystr.split(',')\n",
    "    hn = gn = 0\n",
    "    for ctr in range(0,len(cities)-1):\n",
    "        gn = gn + dict_gn[cities[ctr]][cities[ctr+1]]\n",
    "    hn = dict_hn[cities[len(cities)-1]]\n",
    "    return (gn+hn)\n",
    "\n",
    "def printout(cityq):\n",
    "    for i in range(0,cityq.qsize()):\n",
    "        print(cityq.queue[i])\n",
    "        \n",
    "def expand(cityq):\n",
    "    global result\n",
    "    total, citystr, thiscity = cityq.get()\n",
    "    nexttot = 999\n",
    "    if not cityq.empty():\n",
    "        nexttot, nextcitystr, nextthiscity = cityq.queue[0]\n",
    "        print(\"Nexttotal: \",nexttot)\n",
    "    if thiscity == goal and total < nexttot:\n",
    "        result = citystr+'::'+str(total)\n",
    "        return\n",
    "    print(\"Expanded City _________________\", thiscity)\n",
    "    print(\"Second Best f(n) ______________\", nexttot)\n",
    "    tempq = Q.PriorityQueue()\n",
    "    for cty in dict_gn[thiscity]:\n",
    "        tempq.put((get_fn(citystr + ','+cty), citystr + ',' + cty, cty))\n",
    "    for ctr in range(1,3):\n",
    "        ctrtotal, ctrcitystr, ctrthiscity = tempq.get()\n",
    "        if ctrtotal < nexttot:\n",
    "            cityq.put((ctrtotal, ctrcitystr, ctrthiscity))\n",
    "        else:\n",
    "            cityq.put((ctrtotal, citystr, thiscity))\n",
    "            break\n",
    "    printout(cityq)\n",
    "    expand(cityq)\n",
    "    \n",
    "def main():\n",
    "    cityq = Q.PriorityQueue()\n",
    "    thiscity = start\n",
    "    cityq.put((999, 'NA', 'NA'))\n",
    "    cityq.put((get_fn(start), start, thiscity))\n",
    "    expand(cityq)\n",
    "    print(result)\n",
    "    \n",
    "main()\n"
   ]
  },
  {
   "cell_type": "code",
   "execution_count": null,
   "id": "4958b27c",
   "metadata": {},
   "outputs": [],
   "source": []
  }
 ],
 "metadata": {
  "kernelspec": {
   "display_name": "Python 3 (ipykernel)",
   "language": "python",
   "name": "python3"
  },
  "language_info": {
   "codemirror_mode": {
    "name": "ipython",
    "version": 3
   },
   "file_extension": ".py",
   "mimetype": "text/x-python",
   "name": "python",
   "nbconvert_exporter": "python",
   "pygments_lexer": "ipython3",
   "version": "3.9.12"
  }
 },
 "nbformat": 4,
 "nbformat_minor": 5
}
