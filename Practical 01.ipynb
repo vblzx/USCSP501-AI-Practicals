{
 "cells": [
  {
   "cell_type": "markdown",
   "id": "22e78761-4c05-4012-bf14-44e8dd782800",
   "metadata": {},
   "source": [
    "# BFS"
   ]
  },
  {
   "cell_type": "code",
   "execution_count": 5,
   "id": "b575b195-5471-4706-acc2-ca3ce0876900",
   "metadata": {},
   "outputs": [],
   "source": [
    "graph_dict = dict(\n",
    "    Arad = dict(Zerind = 75 ,Timisoara = 118 , Sibiu = 140),\n",
    "    Bucharest = dict(Urziceni = 85, Giurgui = 90,  Pitesti = 101, Fagaras = 211),\n",
    "    Craiova = dict(Drobeta = 120, Pitesti = 138, Rimnicu = 146),\n",
    "    Drobeta = dict(Craiova = 120, Mehadia = 75),\n",
    "    Eforie = dict(Hirsova = 86),\n",
    "    Fagaras = dict(Sibiu = 99, Bucharest = 211),\n",
    "    Giurgiu = dict(Bucharest = 90),\n",
    "    Hirsova = dict(Eforie = 86, Urziceni = 98),\n",
    "    Iasi = dict(Neamt = 87, Vaslui = 92),\n",
    "    Lugoj = dict(Mehadia = 70, Timisoara = 111),\n",
    "    Mehadia = dict(Lugoj = 70, Drobeta = 75),\n",
    "    Neamt = dict(Iasi = 87),\n",
    "    Oradea = dict(Zerind = 71, Sibiu = 151),\n",
    "    Pitesti = dict(Bucharest = 101, Craiova = 138 ),\n",
    "    Rimnicu = dict(Sibiu = 80, Pitesti = 97, Craiova = 146),\n",
    "    Sibiu = dict(Rimnicu = 80, Arad =  140, Fagaras = 99, Oradea = 151),\n",
    "    Timisoara = dict(Arad = 118, Lugoj = 111),\n",
    "    Urziceni = dict(Bucharest = 85, Hirsova = 98, Vaslui = 142),\n",
    "    Vaslui = dict(Iasi = 92, Urziceni = 142),\n",
    "    Zerind = dict(Oradea = 71, Arad = 75)\n",
    ")"
   ]
  },
  {
   "cell_type": "code",
   "execution_count": 9,
   "id": "5a35111b-0b52-4e2e-92db-b661018d1454",
   "metadata": {},
   "outputs": [],
   "source": [
    "from collections import deque\n",
    "def BFS(graph,node,target):\n",
    "    visited = {}\n",
    "    queue = deque()\n",
    "    visited[node] = None\n",
    "    queue.append(node)\n",
    "    while queue:\n",
    "        m = queue.popleft()\n",
    "        if m == target:\n",
    "            path = []\n",
    "            while m:\n",
    "                path.append(m)\n",
    "                m = visited[m]\n",
    "            return path[::-1]\n",
    "        for neighbour in graph[m]:\n",
    "            if neighbour not in visited:\n",
    "                visited[neighbour] = m\n",
    "                queue.append(neighbour)\n",
    "    "
   ]
  },
  {
   "cell_type": "markdown",
   "id": "74c55837-0b24-41cf-b4be-e86ffc7c9c3e",
   "metadata": {},
   "source": [
    "#driver code\n",
    "print(\"Breadth First Search Algorithm...\")\n",
    "start = input(\"Enter Start Node: \")\n",
    "end = input(\"Enter End Node: \")\n",
    "print(BFS(graph_dict,start,end))"
   ]
  },
  {
   "cell_type": "code",
   "execution_count": 3,
   "id": "160c4667-0ccd-46fe-9392-bc746eb3bc00",
   "metadata": {},
   "outputs": [],
   "source": [
    "#graph = {\n",
    "#    'S': ['A','B','C'],\n",
    "#    'A': ['D'],\n",
    "#    'B': ['E'],\n",
    "#    'C': ['F','J'],\n",
    "#    'D': ['G'],\n",
    "#    'E': ['I','J'],\n",
    "#    'F': ['S'],\n",
    "#    'G': ['H'],\n",
    "#    'H': ['D'],\n",
    "#    'I': [],\n",
    "#    'J': [],    \n",
    "#}\n"
   ]
  },
  {
   "cell_type": "markdown",
   "id": "eeb92f2a-f23e-4f06-90c5-1713aeb8a1fe",
   "metadata": {},
   "source": [
    "# Iterative Depth First Search (IDFS)"
   ]
  },
  {
   "cell_type": "code",
   "execution_count": 19,
   "id": "287b9cd9-c0c7-4efb-98e1-a6c897e0b026",
   "metadata": {},
   "outputs": [],
   "source": [
    "def idfs(graph,start,goal):\n",
    "    stack = [(start, [start])]\n",
    "    visited = set()\n",
    "    while stack:\n",
    "        (vertex, path) = stack.pop()\n",
    "        if vertex not in visited:\n",
    "            if vertex == goal:\n",
    "                return path\n",
    "            visited.add(vertex)\n",
    "            for neighbor in graph[vertex]:\n",
    "                stack.append((neighbor, path + [neighbor]))"
   ]
  },
  {
   "cell_type": "code",
   "execution_count": 25,
   "id": "cc5e46cb-3cb7-4190-9792-536379b60f27",
   "metadata": {},
   "outputs": [
    {
     "name": "stdout",
     "output_type": "stream",
     "text": [
      "Iterative Depth First Search Algorithm...\n"
     ]
    },
    {
     "name": "stdin",
     "output_type": "stream",
     "text": [
      "Enter Start Node:  Arad\n",
      "Enter End Node:  Bucharest\n"
     ]
    },
    {
     "name": "stdout",
     "output_type": "stream",
     "text": [
      "['Arad', 'Sibiu', 'Fagaras', 'Bucharest']\n"
     ]
    }
   ],
   "source": [
    "#driver code\n",
    "print(\"Iterative Depth First Search Algorithm...\")\n",
    "start = input(\"Enter Start Node: \")\n",
    "end = input(\"Enter End Node: \")\n",
    "print(BFS(graph_dict,start,end))"
   ]
  },
  {
   "cell_type": "code",
   "execution_count": null,
   "id": "970261a1-6f99-42fc-9834-767cefcdf910",
   "metadata": {},
   "outputs": [],
   "source": []
  }
 ],
 "metadata": {
  "kernelspec": {
   "display_name": "Python 3 (ipykernel)",
   "language": "python",
   "name": "python3"
  },
  "language_info": {
   "codemirror_mode": {
    "name": "ipython",
    "version": 3
   },
   "file_extension": ".py",
   "mimetype": "text/x-python",
   "name": "python",
   "nbconvert_exporter": "python",
   "pygments_lexer": "ipython3",
   "version": "3.12.4"
  }
 },
 "nbformat": 4,
 "nbformat_minor": 5
}
